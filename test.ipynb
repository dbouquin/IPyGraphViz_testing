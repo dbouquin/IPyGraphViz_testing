{
 "cells": [
  {
   "cell_type": "code",
   "execution_count": 1,
   "metadata": {
    "collapsed": true,
    "deletable": true,
    "editable": true
   },
   "outputs": [],
   "source": [
    "'''\n",
    "simple echo test method for chat and loki_chat\n",
    "'''\n",
    "def echo(message):\n",
    "    return \"Jupyter Echo message: \" + message"
   ]
  },
  {
   "cell_type": "code",
   "execution_count": 2,
   "metadata": {
    "collapsed": true,
    "deletable": true,
    "editable": true
   },
   "outputs": [],
   "source": [
    "'''\n",
    "test methods for loki_chat3\n",
    "each has a seperate socket.io handler on the js side\n",
    "'''\n",
    "\n",
    "def echo_method_1(message):\n",
    "    return \"Jupyter Echo Method 1: \" + message\n",
    "    \n",
    "    \n",
    "def echo_method_2(message):\n",
    "    return \"Jupyter Echo Method 2: \" + message\n",
    "    \n",
    "    \n",
    "def echo_method_3(message):\n",
    "    return \"Jupyter Echo Method 3: \" + message\n",
    "\n",
    "\n",
    "\n"
   ]
  }
 ],
 "metadata": {
  "kernelspec": {
   "display_name": "Python 2",
   "language": "python",
   "name": "python2"
  },
  "language_info": {
   "codemirror_mode": {
    "name": "ipython",
    "version": 2
   },
   "file_extension": ".py",
   "mimetype": "text/x-python",
   "name": "python",
   "nbconvert_exporter": "python",
   "pygments_lexer": "ipython2",
   "version": "2.7.11"
  }
 },
 "nbformat": 4,
 "nbformat_minor": 2
}
